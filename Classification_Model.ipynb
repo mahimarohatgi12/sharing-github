{
  "nbformat": 4,
  "nbformat_minor": 0,
  "metadata": {
    "colab": {
      "name": "Classification Model",
      "provenance": [],
      "authorship_tag": "ABX9TyONVilMB//vZOA4erp6Crqe",
      "include_colab_link": true
    },
    "kernelspec": {
      "name": "python3",
      "display_name": "Python 3"
    }
  },
  "cells": [
    {
      "cell_type": "markdown",
      "metadata": {
        "id": "view-in-github",
        "colab_type": "text"
      },
      "source": [
        "<a href=\"https://colab.research.google.com/github/mahimarohatgi12/sharing-github/blob/main/Classification_Model.ipynb\" target=\"_parent\"><img src=\"https://colab.research.google.com/assets/colab-badge.svg\" alt=\"Open In Colab\"/></a>"
      ]
    },
    {
      "cell_type": "markdown",
      "metadata": {
        "id": "3UOgrexMuZ6c"
      },
      "source": [
        "##**Project on Classification Model**"
      ]
    },
    {
      "cell_type": "code",
      "metadata": {
        "id": "lefCwDTMhU9y"
      },
      "source": [
        "#Importing the libraries \r\n",
        "import numpy as np\r\n",
        "import pandas as pd\r\n",
        "import matplotlib as plt\r\n",
        "import seaborn as sns"
      ],
      "execution_count": null,
      "outputs": []
    },
    {
      "cell_type": "code",
      "metadata": {
        "colab": {
          "base_uri": "https://localhost:8080/"
        },
        "id": "qIyxFmNJhYf8",
        "outputId": "443f14ce-ecb0-469d-9440-7cd3f8e26c0f"
      },
      "source": [
        "#Start by connecting gdrive into the google colab\r\n",
        "from google.colab import drive\r\n",
        "drive.mount('/content/gdrive')    "
      ],
      "execution_count": null,
      "outputs": [
        {
          "output_type": "stream",
          "text": [
            "Drive already mounted at /content/gdrive; to attempt to forcibly remount, call drive.mount(\"/content/gdrive\", force_remount=True).\n"
          ],
          "name": "stdout"
        }
      ]
    },
    {
      "cell_type": "code",
      "metadata": {
        "colab": {
          "base_uri": "https://localhost:8080/",
          "height": 402
        },
        "id": "k9knG90bhcgn",
        "outputId": "891d5334-51de-4a34-8681-0e03ffa98b91"
      },
      "source": [
        "#Importing csv file from My drive to google colab\r\n",
        "from google.colab import files\r\n",
        "df = pd.read_csv('/content/gdrive/My Drive/abalone.csv')\r\n",
        "df"
      ],
      "execution_count": null,
      "outputs": [
        {
          "output_type": "execute_result",
          "data": {
            "text/html": [
              "<div>\n",
              "<style scoped>\n",
              "    .dataframe tbody tr th:only-of-type {\n",
              "        vertical-align: middle;\n",
              "    }\n",
              "\n",
              "    .dataframe tbody tr th {\n",
              "        vertical-align: top;\n",
              "    }\n",
              "\n",
              "    .dataframe thead th {\n",
              "        text-align: right;\n",
              "    }\n",
              "</style>\n",
              "<table border=\"1\" class=\"dataframe\">\n",
              "  <thead>\n",
              "    <tr style=\"text-align: right;\">\n",
              "      <th></th>\n",
              "      <th>Sex</th>\n",
              "      <th>Length</th>\n",
              "      <th>Diameter</th>\n",
              "      <th>Height</th>\n",
              "      <th>Whole weight</th>\n",
              "      <th>Shucked weight</th>\n",
              "      <th>Viscera weight</th>\n",
              "      <th>Shell weight</th>\n",
              "      <th>Rings</th>\n",
              "    </tr>\n",
              "  </thead>\n",
              "  <tbody>\n",
              "    <tr>\n",
              "      <th>0</th>\n",
              "      <td>M</td>\n",
              "      <td>0.455</td>\n",
              "      <td>0.365</td>\n",
              "      <td>0.095</td>\n",
              "      <td>0.5140</td>\n",
              "      <td>0.2245</td>\n",
              "      <td>0.1010</td>\n",
              "      <td>0.1500</td>\n",
              "      <td>15</td>\n",
              "    </tr>\n",
              "    <tr>\n",
              "      <th>1</th>\n",
              "      <td>M</td>\n",
              "      <td>0.350</td>\n",
              "      <td>0.265</td>\n",
              "      <td>0.090</td>\n",
              "      <td>0.2255</td>\n",
              "      <td>0.0995</td>\n",
              "      <td>0.0485</td>\n",
              "      <td>0.0700</td>\n",
              "      <td>7</td>\n",
              "    </tr>\n",
              "    <tr>\n",
              "      <th>2</th>\n",
              "      <td>F</td>\n",
              "      <td>0.530</td>\n",
              "      <td>0.420</td>\n",
              "      <td>0.135</td>\n",
              "      <td>0.6770</td>\n",
              "      <td>0.2565</td>\n",
              "      <td>0.1415</td>\n",
              "      <td>0.2100</td>\n",
              "      <td>9</td>\n",
              "    </tr>\n",
              "    <tr>\n",
              "      <th>3</th>\n",
              "      <td>M</td>\n",
              "      <td>0.440</td>\n",
              "      <td>0.365</td>\n",
              "      <td>0.125</td>\n",
              "      <td>0.5160</td>\n",
              "      <td>0.2155</td>\n",
              "      <td>0.1140</td>\n",
              "      <td>0.1550</td>\n",
              "      <td>10</td>\n",
              "    </tr>\n",
              "    <tr>\n",
              "      <th>4</th>\n",
              "      <td>I</td>\n",
              "      <td>0.330</td>\n",
              "      <td>0.255</td>\n",
              "      <td>0.080</td>\n",
              "      <td>0.2050</td>\n",
              "      <td>0.0895</td>\n",
              "      <td>0.0395</td>\n",
              "      <td>0.0550</td>\n",
              "      <td>7</td>\n",
              "    </tr>\n",
              "    <tr>\n",
              "      <th>...</th>\n",
              "      <td>...</td>\n",
              "      <td>...</td>\n",
              "      <td>...</td>\n",
              "      <td>...</td>\n",
              "      <td>...</td>\n",
              "      <td>...</td>\n",
              "      <td>...</td>\n",
              "      <td>...</td>\n",
              "      <td>...</td>\n",
              "    </tr>\n",
              "    <tr>\n",
              "      <th>4172</th>\n",
              "      <td>F</td>\n",
              "      <td>0.565</td>\n",
              "      <td>0.450</td>\n",
              "      <td>0.165</td>\n",
              "      <td>0.8870</td>\n",
              "      <td>0.3700</td>\n",
              "      <td>0.2390</td>\n",
              "      <td>0.2490</td>\n",
              "      <td>11</td>\n",
              "    </tr>\n",
              "    <tr>\n",
              "      <th>4173</th>\n",
              "      <td>M</td>\n",
              "      <td>0.590</td>\n",
              "      <td>0.440</td>\n",
              "      <td>0.135</td>\n",
              "      <td>0.9660</td>\n",
              "      <td>0.4390</td>\n",
              "      <td>0.2145</td>\n",
              "      <td>0.2605</td>\n",
              "      <td>10</td>\n",
              "    </tr>\n",
              "    <tr>\n",
              "      <th>4174</th>\n",
              "      <td>M</td>\n",
              "      <td>0.600</td>\n",
              "      <td>0.475</td>\n",
              "      <td>0.205</td>\n",
              "      <td>1.1760</td>\n",
              "      <td>0.5255</td>\n",
              "      <td>0.2875</td>\n",
              "      <td>0.3080</td>\n",
              "      <td>9</td>\n",
              "    </tr>\n",
              "    <tr>\n",
              "      <th>4175</th>\n",
              "      <td>F</td>\n",
              "      <td>0.625</td>\n",
              "      <td>0.485</td>\n",
              "      <td>0.150</td>\n",
              "      <td>1.0945</td>\n",
              "      <td>0.5310</td>\n",
              "      <td>0.2610</td>\n",
              "      <td>0.2960</td>\n",
              "      <td>10</td>\n",
              "    </tr>\n",
              "    <tr>\n",
              "      <th>4176</th>\n",
              "      <td>M</td>\n",
              "      <td>0.710</td>\n",
              "      <td>0.555</td>\n",
              "      <td>0.195</td>\n",
              "      <td>1.9485</td>\n",
              "      <td>0.9455</td>\n",
              "      <td>0.3765</td>\n",
              "      <td>0.4950</td>\n",
              "      <td>12</td>\n",
              "    </tr>\n",
              "  </tbody>\n",
              "</table>\n",
              "<p>4177 rows × 9 columns</p>\n",
              "</div>"
            ],
            "text/plain": [
              "     Sex  Length  Diameter  ...  Viscera weight  Shell weight  Rings\n",
              "0      M   0.455     0.365  ...          0.1010        0.1500     15\n",
              "1      M   0.350     0.265  ...          0.0485        0.0700      7\n",
              "2      F   0.530     0.420  ...          0.1415        0.2100      9\n",
              "3      M   0.440     0.365  ...          0.1140        0.1550     10\n",
              "4      I   0.330     0.255  ...          0.0395        0.0550      7\n",
              "...   ..     ...       ...  ...             ...           ...    ...\n",
              "4172   F   0.565     0.450  ...          0.2390        0.2490     11\n",
              "4173   M   0.590     0.440  ...          0.2145        0.2605     10\n",
              "4174   M   0.600     0.475  ...          0.2875        0.3080      9\n",
              "4175   F   0.625     0.485  ...          0.2610        0.2960     10\n",
              "4176   M   0.710     0.555  ...          0.3765        0.4950     12\n",
              "\n",
              "[4177 rows x 9 columns]"
            ]
          },
          "metadata": {
            "tags": []
          },
          "execution_count": 93
        }
      ]
    },
    {
      "cell_type": "code",
      "metadata": {
        "colab": {
          "base_uri": "https://localhost:8080/",
          "height": 284
        },
        "id": "bYyrStdZh6jL",
        "outputId": "4f0f7c1b-1af4-4ea6-927b-4d05f76c3361"
      },
      "source": [
        "#Statistical Details of data\r\n",
        "df.describe()"
      ],
      "execution_count": null,
      "outputs": [
        {
          "output_type": "execute_result",
          "data": {
            "text/html": [
              "<div>\n",
              "<style scoped>\n",
              "    .dataframe tbody tr th:only-of-type {\n",
              "        vertical-align: middle;\n",
              "    }\n",
              "\n",
              "    .dataframe tbody tr th {\n",
              "        vertical-align: top;\n",
              "    }\n",
              "\n",
              "    .dataframe thead th {\n",
              "        text-align: right;\n",
              "    }\n",
              "</style>\n",
              "<table border=\"1\" class=\"dataframe\">\n",
              "  <thead>\n",
              "    <tr style=\"text-align: right;\">\n",
              "      <th></th>\n",
              "      <th>Length</th>\n",
              "      <th>Diameter</th>\n",
              "      <th>Height</th>\n",
              "      <th>Whole weight</th>\n",
              "      <th>Shucked weight</th>\n",
              "      <th>Viscera weight</th>\n",
              "      <th>Shell weight</th>\n",
              "      <th>Rings</th>\n",
              "    </tr>\n",
              "  </thead>\n",
              "  <tbody>\n",
              "    <tr>\n",
              "      <th>count</th>\n",
              "      <td>4177.000000</td>\n",
              "      <td>4177.000000</td>\n",
              "      <td>4177.000000</td>\n",
              "      <td>4177.000000</td>\n",
              "      <td>4177.000000</td>\n",
              "      <td>4177.000000</td>\n",
              "      <td>4177.000000</td>\n",
              "      <td>4177.000000</td>\n",
              "    </tr>\n",
              "    <tr>\n",
              "      <th>mean</th>\n",
              "      <td>0.523992</td>\n",
              "      <td>0.407881</td>\n",
              "      <td>0.139516</td>\n",
              "      <td>0.828742</td>\n",
              "      <td>0.359367</td>\n",
              "      <td>0.180594</td>\n",
              "      <td>0.238831</td>\n",
              "      <td>9.933684</td>\n",
              "    </tr>\n",
              "    <tr>\n",
              "      <th>std</th>\n",
              "      <td>0.120093</td>\n",
              "      <td>0.099240</td>\n",
              "      <td>0.041827</td>\n",
              "      <td>0.490389</td>\n",
              "      <td>0.221963</td>\n",
              "      <td>0.109614</td>\n",
              "      <td>0.139203</td>\n",
              "      <td>3.224169</td>\n",
              "    </tr>\n",
              "    <tr>\n",
              "      <th>min</th>\n",
              "      <td>0.075000</td>\n",
              "      <td>0.055000</td>\n",
              "      <td>0.000000</td>\n",
              "      <td>0.002000</td>\n",
              "      <td>0.001000</td>\n",
              "      <td>0.000500</td>\n",
              "      <td>0.001500</td>\n",
              "      <td>1.000000</td>\n",
              "    </tr>\n",
              "    <tr>\n",
              "      <th>25%</th>\n",
              "      <td>0.450000</td>\n",
              "      <td>0.350000</td>\n",
              "      <td>0.115000</td>\n",
              "      <td>0.441500</td>\n",
              "      <td>0.186000</td>\n",
              "      <td>0.093500</td>\n",
              "      <td>0.130000</td>\n",
              "      <td>8.000000</td>\n",
              "    </tr>\n",
              "    <tr>\n",
              "      <th>50%</th>\n",
              "      <td>0.545000</td>\n",
              "      <td>0.425000</td>\n",
              "      <td>0.140000</td>\n",
              "      <td>0.799500</td>\n",
              "      <td>0.336000</td>\n",
              "      <td>0.171000</td>\n",
              "      <td>0.234000</td>\n",
              "      <td>9.000000</td>\n",
              "    </tr>\n",
              "    <tr>\n",
              "      <th>75%</th>\n",
              "      <td>0.615000</td>\n",
              "      <td>0.480000</td>\n",
              "      <td>0.165000</td>\n",
              "      <td>1.153000</td>\n",
              "      <td>0.502000</td>\n",
              "      <td>0.253000</td>\n",
              "      <td>0.329000</td>\n",
              "      <td>11.000000</td>\n",
              "    </tr>\n",
              "    <tr>\n",
              "      <th>max</th>\n",
              "      <td>0.815000</td>\n",
              "      <td>0.650000</td>\n",
              "      <td>1.130000</td>\n",
              "      <td>2.825500</td>\n",
              "      <td>1.488000</td>\n",
              "      <td>0.760000</td>\n",
              "      <td>1.005000</td>\n",
              "      <td>29.000000</td>\n",
              "    </tr>\n",
              "  </tbody>\n",
              "</table>\n",
              "</div>"
            ],
            "text/plain": [
              "            Length     Diameter  ...  Shell weight        Rings\n",
              "count  4177.000000  4177.000000  ...   4177.000000  4177.000000\n",
              "mean      0.523992     0.407881  ...      0.238831     9.933684\n",
              "std       0.120093     0.099240  ...      0.139203     3.224169\n",
              "min       0.075000     0.055000  ...      0.001500     1.000000\n",
              "25%       0.450000     0.350000  ...      0.130000     8.000000\n",
              "50%       0.545000     0.425000  ...      0.234000     9.000000\n",
              "75%       0.615000     0.480000  ...      0.329000    11.000000\n",
              "max       0.815000     0.650000  ...      1.005000    29.000000\n",
              "\n",
              "[8 rows x 8 columns]"
            ]
          },
          "metadata": {
            "tags": []
          },
          "execution_count": 94
        }
      ]
    },
    {
      "cell_type": "code",
      "metadata": {
        "colab": {
          "base_uri": "https://localhost:8080/"
        },
        "id": "JY6Va8DCiFS1",
        "outputId": "f762e7a9-52ae-47c6-e576-6a07067fdb50"
      },
      "source": [
        "# Check missing values\r\n",
        "print(df.isna().sum())"
      ],
      "execution_count": null,
      "outputs": [
        {
          "output_type": "stream",
          "text": [
            "Sex               0\n",
            "Length            0\n",
            "Diameter          0\n",
            "Height            0\n",
            "Whole weight      0\n",
            "Shucked weight    0\n",
            "Viscera weight    0\n",
            "Shell weight      0\n",
            "Rings             0\n",
            "dtype: int64\n"
          ],
          "name": "stdout"
        }
      ]
    },
    {
      "cell_type": "code",
      "metadata": {
        "colab": {
          "base_uri": "https://localhost:8080/"
        },
        "id": "Yyuv8dNIbkHy",
        "outputId": "5653ba9d-4a60-4837-ddc4-b197a1257dab"
      },
      "source": [
        "#Information on Data\r\n",
        "df.info()"
      ],
      "execution_count": null,
      "outputs": [
        {
          "output_type": "stream",
          "text": [
            "<class 'pandas.core.frame.DataFrame'>\n",
            "RangeIndex: 4177 entries, 0 to 4176\n",
            "Data columns (total 9 columns):\n",
            " #   Column          Non-Null Count  Dtype  \n",
            "---  ------          --------------  -----  \n",
            " 0   Sex             4177 non-null   object \n",
            " 1   Length          4177 non-null   float64\n",
            " 2   Diameter        4177 non-null   float64\n",
            " 3   Height          4177 non-null   float64\n",
            " 4   Whole weight    4177 non-null   float64\n",
            " 5   Shucked weight  4177 non-null   float64\n",
            " 6   Viscera weight  4177 non-null   float64\n",
            " 7   Shell weight    4177 non-null   float64\n",
            " 8   Rings           4177 non-null   int64  \n",
            "dtypes: float64(7), int64(1), object(1)\n",
            "memory usage: 293.8+ KB\n"
          ],
          "name": "stdout"
        }
      ]
    },
    {
      "cell_type": "code",
      "metadata": {
        "colab": {
          "base_uri": "https://localhost:8080/",
          "height": 195
        },
        "id": "HBLu4wXiA3Y-",
        "outputId": "d65a30f7-c53b-4e20-df6a-ccc1aed49d15"
      },
      "source": [
        "# Label Encoding\r\n",
        "#Changing Sex into Numerical values by encoding and labelling\r\n",
        "encode_sex = {'F': 0, 'M': 1, 'I': 2}\r\n",
        "df2['Sex'] = df['Sex'].replace(encode_sex)\r\n",
        "df2.head()"
      ],
      "execution_count": null,
      "outputs": [
        {
          "output_type": "execute_result",
          "data": {
            "text/html": [
              "<div>\n",
              "<style scoped>\n",
              "    .dataframe tbody tr th:only-of-type {\n",
              "        vertical-align: middle;\n",
              "    }\n",
              "\n",
              "    .dataframe tbody tr th {\n",
              "        vertical-align: top;\n",
              "    }\n",
              "\n",
              "    .dataframe thead th {\n",
              "        text-align: right;\n",
              "    }\n",
              "</style>\n",
              "<table border=\"1\" class=\"dataframe\">\n",
              "  <thead>\n",
              "    <tr style=\"text-align: right;\">\n",
              "      <th></th>\n",
              "      <th>F</th>\n",
              "      <th>I</th>\n",
              "      <th>M</th>\n",
              "      <th>Length</th>\n",
              "      <th>Diameter</th>\n",
              "      <th>Height</th>\n",
              "      <th>Whole weight</th>\n",
              "      <th>Shucked weight</th>\n",
              "      <th>Viscera weight</th>\n",
              "      <th>Shell weight</th>\n",
              "      <th>Rings</th>\n",
              "      <th>Sex</th>\n",
              "    </tr>\n",
              "  </thead>\n",
              "  <tbody>\n",
              "    <tr>\n",
              "      <th>0</th>\n",
              "      <td>0</td>\n",
              "      <td>0</td>\n",
              "      <td>1</td>\n",
              "      <td>0.455</td>\n",
              "      <td>0.365</td>\n",
              "      <td>0.095</td>\n",
              "      <td>0.5140</td>\n",
              "      <td>0.2245</td>\n",
              "      <td>0.1010</td>\n",
              "      <td>0.150</td>\n",
              "      <td>15</td>\n",
              "      <td>1</td>\n",
              "    </tr>\n",
              "    <tr>\n",
              "      <th>1</th>\n",
              "      <td>0</td>\n",
              "      <td>0</td>\n",
              "      <td>1</td>\n",
              "      <td>0.350</td>\n",
              "      <td>0.265</td>\n",
              "      <td>0.090</td>\n",
              "      <td>0.2255</td>\n",
              "      <td>0.0995</td>\n",
              "      <td>0.0485</td>\n",
              "      <td>0.070</td>\n",
              "      <td>7</td>\n",
              "      <td>1</td>\n",
              "    </tr>\n",
              "    <tr>\n",
              "      <th>2</th>\n",
              "      <td>1</td>\n",
              "      <td>0</td>\n",
              "      <td>0</td>\n",
              "      <td>0.530</td>\n",
              "      <td>0.420</td>\n",
              "      <td>0.135</td>\n",
              "      <td>0.6770</td>\n",
              "      <td>0.2565</td>\n",
              "      <td>0.1415</td>\n",
              "      <td>0.210</td>\n",
              "      <td>9</td>\n",
              "      <td>0</td>\n",
              "    </tr>\n",
              "    <tr>\n",
              "      <th>3</th>\n",
              "      <td>0</td>\n",
              "      <td>0</td>\n",
              "      <td>1</td>\n",
              "      <td>0.440</td>\n",
              "      <td>0.365</td>\n",
              "      <td>0.125</td>\n",
              "      <td>0.5160</td>\n",
              "      <td>0.2155</td>\n",
              "      <td>0.1140</td>\n",
              "      <td>0.155</td>\n",
              "      <td>10</td>\n",
              "      <td>1</td>\n",
              "    </tr>\n",
              "    <tr>\n",
              "      <th>4</th>\n",
              "      <td>0</td>\n",
              "      <td>1</td>\n",
              "      <td>0</td>\n",
              "      <td>0.330</td>\n",
              "      <td>0.255</td>\n",
              "      <td>0.080</td>\n",
              "      <td>0.2050</td>\n",
              "      <td>0.0895</td>\n",
              "      <td>0.0395</td>\n",
              "      <td>0.055</td>\n",
              "      <td>7</td>\n",
              "      <td>2</td>\n",
              "    </tr>\n",
              "  </tbody>\n",
              "</table>\n",
              "</div>"
            ],
            "text/plain": [
              "   F  I  M  Length  ...  Viscera weight  Shell weight  Rings  Sex\n",
              "0  0  0  1   0.455  ...          0.1010         0.150     15    1\n",
              "1  0  0  1   0.350  ...          0.0485         0.070      7    1\n",
              "2  1  0  0   0.530  ...          0.1415         0.210      9    0\n",
              "3  0  0  1   0.440  ...          0.1140         0.155     10    1\n",
              "4  0  1  0   0.330  ...          0.0395         0.055      7    2\n",
              "\n",
              "[5 rows x 12 columns]"
            ]
          },
          "metadata": {
            "tags": []
          },
          "execution_count": 111
        }
      ]
    },
    {
      "cell_type": "code",
      "metadata": {
        "colab": {
          "base_uri": "https://localhost:8080/",
          "height": 894
        },
        "id": "j7-YYAixeieT",
        "outputId": "6ed3f2f8-6ca4-4c55-cc99-c596ec63a90c"
      },
      "source": [
        "#Plotting Histogram with respect to Gender/Sex and other columns\r\n",
        "fig1 = df2[df2['Sex'] == 2]\r\n",
        "fig1.hist(figsize=(15,15))\r\n",
        "plt.show()"
      ],
      "execution_count": null,
      "outputs": [
        {
          "output_type": "display_data",
          "data": {
            "image/png": "[encoded data removed]",
            "text/plain": [
              "<Figure size 1080x1080 with 12 Axes>"
            ]
          },
          "metadata": {
            "tags": []
          }
        }
      ]
    },
    {
      "cell_type": "code",
      "metadata": {
        "colab": {
          "base_uri": "https://localhost:8080/"
        },
        "id": "LEXzGyLyD-2f",
        "outputId": "98374e18-3707-4de4-b3d1-4af2359d1e31"
      },
      "source": [
        "#Defining our X and Y values taking for training & testing\r\n",
        "y=df2['Rings'].values\r\n",
        "print(y)\r\n",
        "X=df2.drop(['Rings'],axis=1).values\r\n",
        "print(X)"
      ],
      "execution_count": null,
      "outputs": [
        {
          "output_type": "stream",
          "text": [
            "[15  7  9 ...  9 10 12]\n",
            "[[0.     0.     1.     ... 0.101  0.15   1.    ]\n",
            " [0.     0.     1.     ... 0.0485 0.07   1.    ]\n",
            " [1.     0.     0.     ... 0.1415 0.21   0.    ]\n",
            " ...\n",
            " [0.     0.     1.     ... 0.2875 0.308  1.    ]\n",
            " [1.     0.     0.     ... 0.261  0.296  0.    ]\n",
            " [0.     0.     1.     ... 0.3765 0.495  1.    ]]\n"
          ],
          "name": "stdout"
        }
      ]
    },
    {
      "cell_type": "code",
      "metadata": {
        "colab": {
          "base_uri": "https://localhost:8080/"
        },
        "id": "uZRS7LAilAwP",
        "outputId": "86131deb-fc03-4fae-d7ac-dc6b6de6a35a"
      },
      "source": [
        "# Performing Normalizer to make our data accurate\r\n",
        "from sklearn.preprocessing import Normalizer\r\n",
        "scaler = Normalizer().fit(X)\r\n",
        "normalizedX = scaler.transform(X)\r\n",
        "normalizedX"
      ],
      "execution_count": null,
      "outputs": [
        {
          "output_type": "execute_result",
          "data": {
            "text/plain": [
              "array([[0.        , 0.        , 0.6089673 , ..., 0.0615057 , 0.09134509,\n",
              "        0.6089673 ],\n",
              "       [0.        , 0.        , 0.66389475, ..., 0.0321989 , 0.04647263,\n",
              "        0.66389475],\n",
              "       [0.6960966 , 0.        , 0.        , ..., 0.09849767, 0.14618029,\n",
              "        0.        ],\n",
              "       ...,\n",
              "       [0.        , 0.        , 0.47328581, ..., 0.13606967, 0.14577203,\n",
              "        0.47328581],\n",
              "       [0.55182308, 0.        , 0.        , ..., 0.14402582, 0.16333963,\n",
              "        0.        ],\n",
              "       [0.        , 0.        , 0.35516529, ..., 0.13371973, 0.17580682,\n",
              "        0.35516529]])"
            ]
          },
          "metadata": {
            "tags": []
          },
          "execution_count": 124
        }
      ]
    },
    {
      "cell_type": "code",
      "metadata": {
        "id": "YyG7KW6QElYo",
        "colab": {
          "base_uri": "https://localhost:8080/"
        },
        "outputId": "918a801c-950f-4c0a-ed7f-80e0ed27ff39"
      },
      "source": [
        "# Dividing data in train_test\r\n",
        "from sklearn.model_selection import train_test_split\r\n",
        "X_train,X_test,y_train,y_test=train_test_split(normalizedX,y,test_size=0.25,\r\n",
        "                                               random_state=0)\r\n",
        "\r\n",
        "#Defining data used for train & test\r\n",
        "print(X.shape)\r\n",
        "print(X_train.shape)\r\n",
        "print(X_test.shape)\r\n",
        "print(X_test)"
      ],
      "execution_count": null,
      "outputs": [
        {
          "output_type": "stream",
          "text": [
            "(4177, 11)\n",
            "(3132, 11)\n",
            "(1045, 11)\n",
            "[[0.         0.         0.52724868 ... 0.12812143 0.17662831 0.52724868]\n",
            " [0.         0.41065534 0.         ... 0.05872371 0.07946181 0.82131069]\n",
            " [0.         0.         0.45962967 ... 0.1719015  0.14593242 0.45962967]\n",
            " ...\n",
            " [0.         0.         0.57874417 ... 0.09317781 0.10996139 0.57874417]\n",
            " [0.         0.         0.44011325 ... 0.13511477 0.18000632 0.44011325]\n",
            " [0.568225   0.         0.         ... 0.12472539 0.20285632 0.        ]]\n"
          ],
          "name": "stdout"
        }
      ]
    },
    {
      "cell_type": "code",
      "metadata": {
        "id": "mgsamwImPYcD"
      },
      "source": [
        "#Loading Model 1 Perceptron\r\n",
        "from sklearn.linear_model import Perceptron\r\n",
        "model1 = Perceptron()"
      ],
      "execution_count": 167,
      "outputs": []
    },
    {
      "cell_type": "code",
      "metadata": {
        "colab": {
          "base_uri": "https://localhost:8080/",
          "height": 0
        },
        "id": "LCeZ3LFFPpEA",
        "outputId": "bb72c7fe-7249-46be-ac87-3396f2ea5194"
      },
      "source": [
        "#Applying fitting and predicting them\r\n",
        "model1.fit(X_train,y_train)\r\n",
        "y_pred_train=model1.predict(X_train)\r\n",
        "y_pred_test=model1.predict(X_test)\r\n",
        "y_pred_train\r\n",
        "y_pred_test, y_test"
      ],
      "execution_count": 169,
      "outputs": [
        {
          "output_type": "execute_result",
          "data": {
            "text/plain": [
              "(array([16,  8, 12, ...,  8, 12, 10]), array([13,  8, 11, ..., 15, 10,  9]))"
            ]
          },
          "metadata": {
            "tags": []
          },
          "execution_count": 169
        }
      ]
    },
    {
      "cell_type": "code",
      "metadata": {
        "colab": {
          "base_uri": "https://localhost:8080/",
          "height": 0
        },
        "id": "_nxF0_hrP2Gw",
        "outputId": "e4f1de81-d728-4396-d53c-ba163b4159e2"
      },
      "source": [
        "#Performing metrics\r\n",
        "from sklearn.metrics import accuracy_score\r\n",
        "train_acc=accuracy_score(y_pred_train,y_train)\r\n",
        "test_acc=accuracy_score(y_pred_test,y_test)\r\n",
        "print('Training accuracy=',train_acc)\r\n",
        "print('Testing acuuracy=',test_acc)"
      ],
      "execution_count": 170,
      "outputs": [
        {
          "output_type": "stream",
          "text": [
            "Training accuracy= 0.1893358876117497\n",
            "Testing acuuracy= 0.19904306220095694\n"
          ],
          "name": "stdout"
        }
      ]
    },
    {
      "cell_type": "code",
      "metadata": {
        "colab": {
          "base_uri": "https://localhost:8080/",
          "height": 0
        },
        "id": "-S3BQjYX4ef0",
        "outputId": "bdae7e61-f019-464c-e475-b1f8a93d6544"
      },
      "source": [
        "#Checking out Classification report\r\n",
        "from sklearn.metrics import classification_report\r\n",
        "cr=classification_report(y_pred_test,y_test)\r\n",
        "print(cr)"
      ],
      "execution_count": 171,
      "outputs": [
        {
          "output_type": "stream",
          "text": [
            "              precision    recall  f1-score   support\n",
            "\n",
            "           3       0.29      0.17      0.21        12\n",
            "           4       0.00      0.00      0.00         0\n",
            "           5       0.75      0.30      0.43        99\n",
            "           6       0.00      0.00      0.00         0\n",
            "           7       0.00      0.00      0.00         0\n",
            "           8       0.77      0.24      0.36       452\n",
            "           9       0.00      0.00      0.00         0\n",
            "          10       0.23      0.16      0.19       195\n",
            "          11       0.00      0.00      0.00         0\n",
            "          12       0.18      0.18      0.18        96\n",
            "          13       0.24      0.11      0.15       111\n",
            "          14       0.00      0.00      0.00         0\n",
            "          15       0.00      0.00      0.00         0\n",
            "          16       0.50      0.10      0.17        78\n",
            "          17       0.00      0.00      0.00         1\n",
            "          18       0.00      0.00      0.00         0\n",
            "          19       0.00      0.00      0.00         0\n",
            "          20       0.00      0.00      0.00         0\n",
            "          21       0.00      0.00      0.00         0\n",
            "          22       0.00      0.00      0.00         0\n",
            "          23       0.00      0.00      0.00         0\n",
            "          24       0.00      0.00      0.00         0\n",
            "          26       0.00      0.00      0.00         1\n",
            "          29       0.00      0.00      0.00         0\n",
            "\n",
            "    accuracy                           0.20      1045\n",
            "   macro avg       0.12      0.05      0.07      1045\n",
            "weighted avg       0.53      0.20      0.28      1045\n",
            "\n"
          ],
          "name": "stdout"
        },
        {
          "output_type": "stream",
          "text": [
            "/usr/local/lib/python3.6/dist-packages/sklearn/metrics/_classification.py:1272: UndefinedMetricWarning:\n",
            "\n",
            "Precision and F-score are ill-defined and being set to 0.0 in labels with no predicted samples. Use `zero_division` parameter to control this behavior.\n",
            "\n",
            "/usr/local/lib/python3.6/dist-packages/sklearn/metrics/_classification.py:1272: UndefinedMetricWarning:\n",
            "\n",
            "Recall and F-score are ill-defined and being set to 0.0 in labels with no true samples. Use `zero_division` parameter to control this behavior.\n",
            "\n"
          ],
          "name": "stderr"
        }
      ]
    },
    {
      "cell_type": "code",
      "metadata": {
        "colab": {
          "base_uri": "https://localhost:8080/",
          "height": 0
        },
        "id": "ChqcR49t4oq0",
        "outputId": "0b4fd3aa-a784-4d36-a9a1-7bec7b27db3f"
      },
      "source": [
        "#Performing Confusion Matrix\r\n",
        "from sklearn.metrics import confusion_matrix\r\n",
        "cm=confusion_matrix(y_pred_test,y_test)\r\n",
        "print(cm)"
      ],
      "execution_count": 172,
      "outputs": [
        {
          "output_type": "stream",
          "text": [
            "[[  2   0   4   1   0   1   1   1   2   0   0   0   0   0   0   0   0   0\n",
            "    0   0   0   0   0   0]\n",
            " [  0   0   0   0   0   0   0   0   0   0   0   0   0   0   0   0   0   0\n",
            "    0   0   0   0   0   0]\n",
            " [  5  13  30  24  20   5   1   1   0   0   0   0   0   0   0   0   0   0\n",
            "    0   0   0   0   0   0]\n",
            " [  0   0   0   0   0   0   0   0   0   0   0   0   0   0   0   0   0   0\n",
            "    0   0   0   0   0   0]\n",
            " [  0   0   0   0   0   0   0   0   0   0   0   0   0   0   0   0   0   0\n",
            "    0   0   0   0   0   0]\n",
            " [  0   0   6  36  82 107  80  54  41  22   7   8   3   2   0   1   2   1\n",
            "    0   0   0   0   0   0]\n",
            " [  0   0   0   0   0   0   0   0   0   0   0   0   0   0   0   0   0   0\n",
            "    0   0   0   0   0   0]\n",
            " [  0   0   0   1   5  14  42  32  41  28   9   6   5   3   3   1   4   0\n",
            "    0   0   0   0   0   1]\n",
            " [  0   0   0   0   0   0   0   0   0   0   0   0   0   0   0   0   0   0\n",
            "    0   0   0   0   0   0]\n",
            " [  0   0   0   0   1   5   8  25  20  17  11   2   2   0   3   1   1   0\n",
            "    0   0   0   0   0   0]\n",
            " [  0   0   0   0   6   6  17  16  11  18  12   7   4   3   1   0   1   4\n",
            "    1   1   2   1   0   0]\n",
            " [  0   0   0   0   0   0   0   0   0   0   0   0   0   0   0   0   0   0\n",
            "    0   0   0   0   0   0]\n",
            " [  0   0   0   0   0   0   0   0   0   0   0   0   0   0   0   0   0   0\n",
            "    0   0   0   0   0   0]\n",
            " [  0   0   0   1   0   1   3  10   5   8  11   9   8   8   5   3   2   3\n",
            "    1   0   0   0   0   0]\n",
            " [  0   0   0   0   0   0   0   0   1   0   0   0   0   0   0   0   0   0\n",
            "    0   0   0   0   0   0]\n",
            " [  0   0   0   0   0   0   0   0   0   0   0   0   0   0   0   0   0   0\n",
            "    0   0   0   0   0   0]\n",
            " [  0   0   0   0   0   0   0   0   0   0   0   0   0   0   0   0   0   0\n",
            "    0   0   0   0   0   0]\n",
            " [  0   0   0   0   0   0   0   0   0   0   0   0   0   0   0   0   0   0\n",
            "    0   0   0   0   0   0]\n",
            " [  0   0   0   0   0   0   0   0   0   0   0   0   0   0   0   0   0   0\n",
            "    0   0   0   0   0   0]\n",
            " [  0   0   0   0   0   0   0   0   0   0   0   0   0   0   0   0   0   0\n",
            "    0   0   0   0   0   0]\n",
            " [  0   0   0   0   0   0   0   0   0   0   0   0   0   0   0   0   0   0\n",
            "    0   0   0   0   0   0]\n",
            " [  0   0   0   0   0   0   0   0   0   0   0   0   0   0   0   0   0   0\n",
            "    0   0   0   0   0   0]\n",
            " [  0   0   0   0   0   0   0   0   0   0   1   0   0   0   0   0   0   0\n",
            "    0   0   0   0   0   0]\n",
            " [  0   0   0   0   0   0   0   0   0   0   0   0   0   0   0   0   0   0\n",
            "    0   0   0   0   0   0]]\n"
          ],
          "name": "stdout"
        }
      ]
    },
    {
      "cell_type": "code",
      "metadata": {
        "id": "oIcsxAXtQJbr"
      },
      "source": [
        "#loading our Model 2 a logisticregression\r\n",
        "from sklearn.linear_model import LogisticRegression\r\n",
        "model2 = LogisticRegression()"
      ],
      "execution_count": 173,
      "outputs": []
    },
    {
      "cell_type": "code",
      "metadata": {
        "colab": {
          "base_uri": "https://localhost:8080/",
          "height": 0
        },
        "id": "Vm4FsDlXQSAR",
        "outputId": "1e7ff5a5-3689-499b-8b93-689a9558dc51"
      },
      "source": [
        "#Applying fitting and predicting model\r\n",
        "model2.fit(X_train,y_train)\r\n",
        "y_pred_train=model2.predict(X_train)\r\n",
        "y_pred_test=model2.predict(X_test)\r\n",
        "y_pred_train\r\n",
        "y_pred_test, y_test"
      ],
      "execution_count": 174,
      "outputs": [
        {
          "output_type": "stream",
          "text": [
            "/usr/local/lib/python3.6/dist-packages/sklearn/linear_model/_logistic.py:940: ConvergenceWarning:\n",
            "\n",
            "lbfgs failed to converge (status=1):\n",
            "STOP: TOTAL NO. of ITERATIONS REACHED LIMIT.\n",
            "\n",
            "Increase the number of iterations (max_iter) or scale the data as shown in:\n",
            "    https://scikit-learn.org/stable/modules/preprocessing.html\n",
            "Please also refer to the documentation for alternative solver options:\n",
            "    https://scikit-learn.org/stable/modules/linear_model.html#logistic-regression\n",
            "\n"
          ],
          "name": "stderr"
        },
        {
          "output_type": "execute_result",
          "data": {
            "text/plain": [
              "(array([10,  8, 10, ...,  9, 10, 10]), array([13,  8, 11, ..., 15, 10,  9]))"
            ]
          },
          "metadata": {
            "tags": []
          },
          "execution_count": 174
        }
      ]
    },
    {
      "cell_type": "code",
      "metadata": {
        "colab": {
          "base_uri": "https://localhost:8080/",
          "height": 0
        },
        "id": "APzryHrAQg56",
        "outputId": "c18af9b1-a3db-4dd8-eda6-665510318573"
      },
      "source": [
        "# Finding out Accuracy score/metrics\r\n",
        "from sklearn.metrics import accuracy_score\r\n",
        "train_acc=accuracy_score(y_pred_train,y_train)\r\n",
        "test_acc=accuracy_score(y_pred_test,y_test)\r\n",
        "print('Training accuracy=',train_acc)\r\n",
        "print('Testing acuuracy=',test_acc)"
      ],
      "execution_count": 175,
      "outputs": [
        {
          "output_type": "stream",
          "text": [
            "Training accuracy= 0.2624521072796935\n",
            "Testing acuuracy= 0.23253588516746412\n"
          ],
          "name": "stdout"
        }
      ]
    },
    {
      "cell_type": "code",
      "metadata": {
        "colab": {
          "base_uri": "https://localhost:8080/",
          "height": 0
        },
        "id": "Apjxh_ul44MZ",
        "outputId": "625b9c73-f6cc-4528-e41d-0878b15c9a59"
      },
      "source": [
        "#Finding classification report\r\n",
        "from sklearn.metrics import classification_report\r\n",
        "cr=classification_report(y_pred_test,y_test)\r\n",
        "print(cr)"
      ],
      "execution_count": 176,
      "outputs": [
        {
          "output_type": "stream",
          "text": [
            "              precision    recall  f1-score   support\n",
            "\n",
            "           3       0.00      0.00      0.00         0\n",
            "           4       0.00      0.00      0.00         0\n",
            "           5       0.00      0.00      0.00         0\n",
            "           6       0.25      0.23      0.24        69\n",
            "           7       0.41      0.36      0.38       132\n",
            "           8       0.42      0.32      0.36       186\n",
            "           9       0.35      0.20      0.26       263\n",
            "          10       0.36      0.16      0.22       310\n",
            "          11       0.15      0.21      0.17        85\n",
            "          12       0.00      0.00      0.00         0\n",
            "          13       0.00      0.00      0.00         0\n",
            "          14       0.00      0.00      0.00         0\n",
            "          15       0.00      0.00      0.00         0\n",
            "          16       0.00      0.00      0.00         0\n",
            "          17       0.00      0.00      0.00         0\n",
            "          18       0.00      0.00      0.00         0\n",
            "          19       0.00      0.00      0.00         0\n",
            "          20       0.00      0.00      0.00         0\n",
            "          21       0.00      0.00      0.00         0\n",
            "          22       0.00      0.00      0.00         0\n",
            "          23       0.00      0.00      0.00         0\n",
            "          24       0.00      0.00      0.00         0\n",
            "          29       0.00      0.00      0.00         0\n",
            "\n",
            "    accuracy                           0.23      1045\n",
            "   macro avg       0.08      0.06      0.07      1045\n",
            "weighted avg       0.35      0.23      0.27      1045\n",
            "\n"
          ],
          "name": "stdout"
        },
        {
          "output_type": "stream",
          "text": [
            "/usr/local/lib/python3.6/dist-packages/sklearn/metrics/_classification.py:1272: UndefinedMetricWarning:\n",
            "\n",
            "Recall and F-score are ill-defined and being set to 0.0 in labels with no true samples. Use `zero_division` parameter to control this behavior.\n",
            "\n"
          ],
          "name": "stderr"
        }
      ]
    },
    {
      "cell_type": "code",
      "metadata": {
        "colab": {
          "base_uri": "https://localhost:8080/",
          "height": 0
        },
        "id": "W6cN8DFQ47EH",
        "outputId": "11a2dd5f-7352-47e3-c9c8-e336973f894d"
      },
      "source": [
        "#Taking out Confusion Matrix\r\n",
        "from sklearn.metrics import confusion_matrix\r\n",
        "cm=confusion_matrix(y_pred_test,y_test)\r\n",
        "print(cm)"
      ],
      "execution_count": 177,
      "outputs": [
        {
          "output_type": "stream",
          "text": [
            "[[ 0  0  0  0  0  0  0  0  0  0  0  0  0  0  0  0  0  0  0  0  0  0  0]\n",
            " [ 0  0  0  0  0  0  0  0  0  0  0  0  0  0  0  0  0  0  0  0  0  0  0]\n",
            " [ 0  0  0  0  0  0  0  0  0  0  0  0  0  0  0  0  0  0  0  0  0  0  0]\n",
            " [ 5 13 25 16  7  3  0  0  0  0  0  0  0  0  0  0  0  0  0  0  0  0  0]\n",
            " [ 2  0 12 33 47 15 10  7  5  0  1  0  0  0  0  0  0  0  0  0  0  0  0]\n",
            " [ 0  0  2  8 29 59 32 19 16  8  4  3  2  2  0  1  0  1  0  0  0  0  0]\n",
            " [ 0  0  1  4 26 47 53 45 26 23 14 11  4  4  1  0  3  1  0  0  0  0  0]\n",
            " [ 0  0  0  2  5 14 54 50 56 48 21 14 13  9  5  5  4  6  1  1  2  0  0]\n",
            " [ 0  0  0  0  0  1  3 18 18 14 11  4  3  1  6  0  3  0  1  0  0  1  1]\n",
            " [ 0  0  0  0  0  0  0  0  0  0  0  0  0  0  0  0  0  0  0  0  0  0  0]\n",
            " [ 0  0  0  0  0  0  0  0  0  0  0  0  0  0  0  0  0  0  0  0  0  0  0]\n",
            " [ 0  0  0  0  0  0  0  0  0  0  0  0  0  0  0  0  0  0  0  0  0  0  0]\n",
            " [ 0  0  0  0  0  0  0  0  0  0  0  0  0  0  0  0  0  0  0  0  0  0  0]\n",
            " [ 0  0  0  0  0  0  0  0  0  0  0  0  0  0  0  0  0  0  0  0  0  0  0]\n",
            " [ 0  0  0  0  0  0  0  0  0  0  0  0  0  0  0  0  0  0  0  0  0  0  0]\n",
            " [ 0  0  0  0  0  0  0  0  0  0  0  0  0  0  0  0  0  0  0  0  0  0  0]\n",
            " [ 0  0  0  0  0  0  0  0  0  0  0  0  0  0  0  0  0  0  0  0  0  0  0]\n",
            " [ 0  0  0  0  0  0  0  0  0  0  0  0  0  0  0  0  0  0  0  0  0  0  0]\n",
            " [ 0  0  0  0  0  0  0  0  0  0  0  0  0  0  0  0  0  0  0  0  0  0  0]\n",
            " [ 0  0  0  0  0  0  0  0  0  0  0  0  0  0  0  0  0  0  0  0  0  0  0]\n",
            " [ 0  0  0  0  0  0  0  0  0  0  0  0  0  0  0  0  0  0  0  0  0  0  0]\n",
            " [ 0  0  0  0  0  0  0  0  0  0  0  0  0  0  0  0  0  0  0  0  0  0  0]\n",
            " [ 0  0  0  0  0  0  0  0  0  0  0  0  0  0  0  0  0  0  0  0  0  0  0]]\n"
          ],
          "name": "stdout"
        }
      ]
    },
    {
      "cell_type": "code",
      "metadata": {
        "id": "E1mlGIwwQm2d"
      },
      "source": [
        "# KNN Model 3\r\n",
        "from sklearn.neighbors import KNeighborsClassifier\r\n",
        "model3 = KNeighborsClassifier()"
      ],
      "execution_count": 178,
      "outputs": []
    },
    {
      "cell_type": "code",
      "metadata": {
        "colab": {
          "base_uri": "https://localhost:8080/",
          "height": 0
        },
        "id": "fIKV4QocmuUa",
        "outputId": "cae72701-7ceb-4eda-94db-edec00b5a90b"
      },
      "source": [
        "model3.fit(X_train, y_train)\r\n",
        "y_pred_train=model3.predict(X_train)\r\n",
        "y_pred_test=model3.predict(X_test)\r\n",
        "y_pred_train\r\n",
        "y_pred_test, y_test"
      ],
      "execution_count": 179,
      "outputs": [
        {
          "output_type": "execute_result",
          "data": {
            "text/plain": [
              "(array([19,  8,  9, ..., 12,  9, 11]), array([13,  8, 11, ..., 15, 10,  9]))"
            ]
          },
          "metadata": {
            "tags": []
          },
          "execution_count": 179
        }
      ]
    },
    {
      "cell_type": "code",
      "metadata": {
        "colab": {
          "base_uri": "https://localhost:8080/",
          "height": 0
        },
        "id": "lNHqJAg75O9W",
        "outputId": "aa387f82-029b-4dea-c325-d5ef531f7d6c"
      },
      "source": [
        "from sklearn.metrics import accuracy_score\r\n",
        "train_acc=accuracy_score(y_pred_train,y_train)\r\n",
        "test_acc=accuracy_score(y_pred_test,y_test)\r\n",
        "print('Training accuracy=',train_acc)\r\n",
        "print('Testing acuuracy=',test_acc)"
      ],
      "execution_count": 180,
      "outputs": [
        {
          "output_type": "stream",
          "text": [
            "Training accuracy= 0.45338441890166026\n",
            "Testing acuuracy= 0.20669856459330144\n"
          ],
          "name": "stdout"
        }
      ]
    },
    {
      "cell_type": "code",
      "metadata": {
        "id": "7db5CgR2Q3lR"
      },
      "source": [
        "# Decision tree Classifier Model 4\r\n",
        "from sklearn.tree import DecisionTreeClassifier\r\n",
        "model4 = DecisionTreeClassifier()"
      ],
      "execution_count": 181,
      "outputs": []
    },
    {
      "cell_type": "code",
      "metadata": {
        "colab": {
          "base_uri": "https://localhost:8080/",
          "height": 0
        },
        "id": "m4tFfXVCQ7lZ",
        "outputId": "396a7a6b-ed4a-4f5d-96d5-be6dd86b517d"
      },
      "source": [
        "#fit and predict\r\n",
        "model4.fit(X_train,y_train)\r\n",
        "y_pred_train=model4.predict(X_train)\r\n",
        "y_pred_test=model4.predict(X_test)\r\n",
        "y_pred_train\r\n",
        "y_pred_test, y_test"
      ],
      "execution_count": 182,
      "outputs": [
        {
          "output_type": "execute_result",
          "data": {
            "text/plain": [
              "(array([13,  7,  9, ..., 12, 11, 14]), array([13,  8, 11, ..., 15, 10,  9]))"
            ]
          },
          "metadata": {
            "tags": []
          },
          "execution_count": 182
        }
      ]
    },
    {
      "cell_type": "code",
      "metadata": {
        "colab": {
          "base_uri": "https://localhost:8080/",
          "height": 0
        },
        "id": "T7DRnlphREy7",
        "outputId": "18311544-8204-4354-884a-3ba44bce295f"
      },
      "source": [
        "from sklearn.metrics import accuracy_score\r\n",
        "train_acc=accuracy_score(y_pred_train,y_train)\r\n",
        "test_acc=accuracy_score(y_pred_test,y_test)\r\n",
        "print('Training accuracy=',train_acc)\r\n",
        "print('Testing acuuracy=',test_acc)"
      ],
      "execution_count": 183,
      "outputs": [
        {
          "output_type": "stream",
          "text": [
            "Training accuracy= 1.0\n",
            "Testing acuuracy= 0.2\n"
          ],
          "name": "stdout"
        }
      ]
    },
    {
      "cell_type": "code",
      "metadata": {
        "id": "ZX6GaJSwROZu"
      },
      "source": [
        "# Gauss Naive Bayes Model 5\r\n",
        "from sklearn.naive_bayes import GaussianNB\r\n",
        "model5= GaussianNB()"
      ],
      "execution_count": 184,
      "outputs": []
    },
    {
      "cell_type": "code",
      "metadata": {
        "id": "6lqP8YgoINaO",
        "colab": {
          "base_uri": "https://localhost:8080/",
          "height": 0
        },
        "outputId": "6ffa75fd-d83c-4878-950f-c9d86efffe25"
      },
      "source": [
        "#fit and predict\r\n",
        "model5.fit(X_train,y_train)\r\n",
        "y_pred_train=model5.predict(X_train)\r\n",
        "y_pred_test=model5.predict(X_test)\r\n",
        "y_pred_train\r\n",
        "y_pred_test, y_test"
      ],
      "execution_count": 185,
      "outputs": [
        {
          "output_type": "execute_result",
          "data": {
            "text/plain": [
              "(array([20,  7, 20, ..., 20, 20, 23]), array([13,  8, 11, ..., 15, 10,  9]))"
            ]
          },
          "metadata": {
            "tags": []
          },
          "execution_count": 185
        }
      ]
    },
    {
      "cell_type": "code",
      "metadata": {
        "colab": {
          "base_uri": "https://localhost:8080/",
          "height": 0
        },
        "id": "OR0WFvPeKKEw",
        "outputId": "fbe3425d-ecd6-4bc6-c043-d5a2755f9b8d"
      },
      "source": [
        "from sklearn.metrics import accuracy_score\r\n",
        "train_acc=accuracy_score(y_pred_train,y_train)\r\n",
        "test_acc=accuracy_score(y_pred_test,y_test)\r\n",
        "print('Training accuracy=',train_acc)\r\n",
        "print('Testing acuuracy=',test_acc)"
      ],
      "execution_count": 186,
      "outputs": [
        {
          "output_type": "stream",
          "text": [
            "Training accuracy= 0.06992337164750957\n",
            "Testing acuuracy= 0.06124401913875598\n"
          ],
          "name": "stdout"
        }
      ]
    },
    {
      "cell_type": "code",
      "metadata": {
        "colab": {
          "base_uri": "https://localhost:8080/",
          "height": 402
        },
        "id": "NkrNr-OnRxik",
        "outputId": "b36c26ae-0caf-4841-83a9-5442490f4e4a"
      },
      "source": [
        "df2"
      ],
      "execution_count": 187,
      "outputs": [
        {
          "output_type": "execute_result",
          "data": {
            "text/html": [
              "<div>\n",
              "<style scoped>\n",
              "    .dataframe tbody tr th:only-of-type {\n",
              "        vertical-align: middle;\n",
              "    }\n",
              "\n",
              "    .dataframe tbody tr th {\n",
              "        vertical-align: top;\n",
              "    }\n",
              "\n",
              "    .dataframe thead th {\n",
              "        text-align: right;\n",
              "    }\n",
              "</style>\n",
              "<table border=\"1\" class=\"dataframe\">\n",
              "  <thead>\n",
              "    <tr style=\"text-align: right;\">\n",
              "      <th></th>\n",
              "      <th>F</th>\n",
              "      <th>I</th>\n",
              "      <th>M</th>\n",
              "      <th>Length</th>\n",
              "      <th>Diameter</th>\n",
              "      <th>Height</th>\n",
              "      <th>Whole weight</th>\n",
              "      <th>Shucked weight</th>\n",
              "      <th>Viscera weight</th>\n",
              "      <th>Shell weight</th>\n",
              "      <th>Rings</th>\n",
              "      <th>Sex</th>\n",
              "    </tr>\n",
              "  </thead>\n",
              "  <tbody>\n",
              "    <tr>\n",
              "      <th>0</th>\n",
              "      <td>0</td>\n",
              "      <td>0</td>\n",
              "      <td>1</td>\n",
              "      <td>0.455</td>\n",
              "      <td>0.365</td>\n",
              "      <td>0.095</td>\n",
              "      <td>0.5140</td>\n",
              "      <td>0.2245</td>\n",
              "      <td>0.1010</td>\n",
              "      <td>0.1500</td>\n",
              "      <td>15</td>\n",
              "      <td>1</td>\n",
              "    </tr>\n",
              "    <tr>\n",
              "      <th>1</th>\n",
              "      <td>0</td>\n",
              "      <td>0</td>\n",
              "      <td>1</td>\n",
              "      <td>0.350</td>\n",
              "      <td>0.265</td>\n",
              "      <td>0.090</td>\n",
              "      <td>0.2255</td>\n",
              "      <td>0.0995</td>\n",
              "      <td>0.0485</td>\n",
              "      <td>0.0700</td>\n",
              "      <td>7</td>\n",
              "      <td>1</td>\n",
              "    </tr>\n",
              "    <tr>\n",
              "      <th>2</th>\n",
              "      <td>1</td>\n",
              "      <td>0</td>\n",
              "      <td>0</td>\n",
              "      <td>0.530</td>\n",
              "      <td>0.420</td>\n",
              "      <td>0.135</td>\n",
              "      <td>0.6770</td>\n",
              "      <td>0.2565</td>\n",
              "      <td>0.1415</td>\n",
              "      <td>0.2100</td>\n",
              "      <td>9</td>\n",
              "      <td>0</td>\n",
              "    </tr>\n",
              "    <tr>\n",
              "      <th>3</th>\n",
              "      <td>0</td>\n",
              "      <td>0</td>\n",
              "      <td>1</td>\n",
              "      <td>0.440</td>\n",
              "      <td>0.365</td>\n",
              "      <td>0.125</td>\n",
              "      <td>0.5160</td>\n",
              "      <td>0.2155</td>\n",
              "      <td>0.1140</td>\n",
              "      <td>0.1550</td>\n",
              "      <td>10</td>\n",
              "      <td>1</td>\n",
              "    </tr>\n",
              "    <tr>\n",
              "      <th>4</th>\n",
              "      <td>0</td>\n",
              "      <td>1</td>\n",
              "      <td>0</td>\n",
              "      <td>0.330</td>\n",
              "      <td>0.255</td>\n",
              "      <td>0.080</td>\n",
              "      <td>0.2050</td>\n",
              "      <td>0.0895</td>\n",
              "      <td>0.0395</td>\n",
              "      <td>0.0550</td>\n",
              "      <td>7</td>\n",
              "      <td>2</td>\n",
              "    </tr>\n",
              "    <tr>\n",
              "      <th>...</th>\n",
              "      <td>...</td>\n",
              "      <td>...</td>\n",
              "      <td>...</td>\n",
              "      <td>...</td>\n",
              "      <td>...</td>\n",
              "      <td>...</td>\n",
              "      <td>...</td>\n",
              "      <td>...</td>\n",
              "      <td>...</td>\n",
              "      <td>...</td>\n",
              "      <td>...</td>\n",
              "      <td>...</td>\n",
              "    </tr>\n",
              "    <tr>\n",
              "      <th>4172</th>\n",
              "      <td>1</td>\n",
              "      <td>0</td>\n",
              "      <td>0</td>\n",
              "      <td>0.565</td>\n",
              "      <td>0.450</td>\n",
              "      <td>0.165</td>\n",
              "      <td>0.8870</td>\n",
              "      <td>0.3700</td>\n",
              "      <td>0.2390</td>\n",
              "      <td>0.2490</td>\n",
              "      <td>11</td>\n",
              "      <td>0</td>\n",
              "    </tr>\n",
              "    <tr>\n",
              "      <th>4173</th>\n",
              "      <td>0</td>\n",
              "      <td>0</td>\n",
              "      <td>1</td>\n",
              "      <td>0.590</td>\n",
              "      <td>0.440</td>\n",
              "      <td>0.135</td>\n",
              "      <td>0.9660</td>\n",
              "      <td>0.4390</td>\n",
              "      <td>0.2145</td>\n",
              "      <td>0.2605</td>\n",
              "      <td>10</td>\n",
              "      <td>1</td>\n",
              "    </tr>\n",
              "    <tr>\n",
              "      <th>4174</th>\n",
              "      <td>0</td>\n",
              "      <td>0</td>\n",
              "      <td>1</td>\n",
              "      <td>0.600</td>\n",
              "      <td>0.475</td>\n",
              "      <td>0.205</td>\n",
              "      <td>1.1760</td>\n",
              "      <td>0.5255</td>\n",
              "      <td>0.2875</td>\n",
              "      <td>0.3080</td>\n",
              "      <td>9</td>\n",
              "      <td>1</td>\n",
              "    </tr>\n",
              "    <tr>\n",
              "      <th>4175</th>\n",
              "      <td>1</td>\n",
              "      <td>0</td>\n",
              "      <td>0</td>\n",
              "      <td>0.625</td>\n",
              "      <td>0.485</td>\n",
              "      <td>0.150</td>\n",
              "      <td>1.0945</td>\n",
              "      <td>0.5310</td>\n",
              "      <td>0.2610</td>\n",
              "      <td>0.2960</td>\n",
              "      <td>10</td>\n",
              "      <td>0</td>\n",
              "    </tr>\n",
              "    <tr>\n",
              "      <th>4176</th>\n",
              "      <td>0</td>\n",
              "      <td>0</td>\n",
              "      <td>1</td>\n",
              "      <td>0.710</td>\n",
              "      <td>0.555</td>\n",
              "      <td>0.195</td>\n",
              "      <td>1.9485</td>\n",
              "      <td>0.9455</td>\n",
              "      <td>0.3765</td>\n",
              "      <td>0.4950</td>\n",
              "      <td>12</td>\n",
              "      <td>1</td>\n",
              "    </tr>\n",
              "  </tbody>\n",
              "</table>\n",
              "<p>4177 rows × 12 columns</p>\n",
              "</div>"
            ],
            "text/plain": [
              "      F  I  M  Length  ...  Viscera weight  Shell weight  Rings  Sex\n",
              "0     0  0  1   0.455  ...          0.1010        0.1500     15    1\n",
              "1     0  0  1   0.350  ...          0.0485        0.0700      7    1\n",
              "2     1  0  0   0.530  ...          0.1415        0.2100      9    0\n",
              "3     0  0  1   0.440  ...          0.1140        0.1550     10    1\n",
              "4     0  1  0   0.330  ...          0.0395        0.0550      7    2\n",
              "...  .. .. ..     ...  ...             ...           ...    ...  ...\n",
              "4172  1  0  0   0.565  ...          0.2390        0.2490     11    0\n",
              "4173  0  0  1   0.590  ...          0.2145        0.2605     10    1\n",
              "4174  0  0  1   0.600  ...          0.2875        0.3080      9    1\n",
              "4175  1  0  0   0.625  ...          0.2610        0.2960     10    0\n",
              "4176  0  0  1   0.710  ...          0.3765        0.4950     12    1\n",
              "\n",
              "[4177 rows x 12 columns]"
            ]
          },
          "metadata": {
            "tags": []
          },
          "execution_count": 187
        }
      ]
    },
    {
      "cell_type": "code",
      "metadata": {
        "id": "axR_17Z2IBsV",
        "colab": {
          "base_uri": "https://localhost:8080/",
          "height": 736
        },
        "outputId": "cbe4f5c9-6aac-46e5-badf-64e339a53de3"
      },
      "source": [
        "# EDA:Exploratory data analysis- tool in data science\r\n",
        "cols=['Length','Diameter','Height','Rings']\r\n",
        "import seaborn as sns\r\n",
        "#sns.pairplot(df)\r\n",
        "sns.pairplot(df[cols])"
      ],
      "execution_count": 188,
      "outputs": [
        {
          "output_type": "execute_result",
          "data": {
            "text/plain": [
              "<seaborn.axisgrid.PairGrid at 0x7fc33cb77128>"
            ]
          },
          "metadata": {
            "tags": []
          },
          "execution_count": 188
        },
        {
          "output_type": "display_data",
          "data": {
            "image/png": "[encoded data removed]",
            "text/plain": [
              "<Figure size 720x720 with 20 Axes>"
            ]
          },
          "metadata": {
            "tags": []
          }
        }
      ]
    },
    {
      "cell_type": "code",
      "metadata": {
        "colab": {
          "base_uri": "https://localhost:8080/",
          "height": 342
        },
        "id": "c7yPB7RNSlDi",
        "outputId": "70a71348-0dfe-48cc-e659-67a04de91876"
      },
      "source": [
        "# correlation analysis r=0 NO correlation, r>0 positive correlation, r<0 negative correlation\r\n",
        "# -1<=r<=1\r\n",
        "import numpy as np\r\n",
        "import seaborn as sns\r\n",
        "cols=['Length','Diameter','Height','Rings']\r\n",
        "cm=np.corrcoef(df2[cols].values.T)\r\n",
        "sns.set(font_scale=1.5)\r\n",
        "# heat map\r\n",
        "hm=sns.heatmap(cm,cbar=True,annot=True,square=False,fmt='.3f',annot_kws={'size':15},\r\n",
        "               yticklabels=cols,xticklabels=cols)"
      ],
      "execution_count": 189,
      "outputs": [
        {
          "output_type": "display_data",
          "data": {
            "image/png": "[encoded data removed]",
            "text/plain": [
              "<Figure size 432x288 with 2 Axes>"
            ]
          },
          "metadata": {
            "tags": []
          }
        }
      ]
    },
    {
      "cell_type": "markdown",
      "metadata": {
        "id": "KST3tfjF5z-q"
      },
      "source": [
        "##**INTERPRETATION**\r\n",
        "\r\n",
        "We applied 5 models in our Abolen Data including Perceptron, KNN, NB, Decision tree and Logistic Regression. If we will see the accuracy of our data, accuracy rate should be near to 0.95, which is said to be perfectly fit, but our accuracy is around 0.45 which means that this data accuracy rate is very low.\r\n"
      ]
    }
  ]
}